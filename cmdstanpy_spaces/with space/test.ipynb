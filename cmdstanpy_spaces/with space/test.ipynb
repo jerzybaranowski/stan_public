{
 "metadata": {
  "language_info": {
   "codemirror_mode": {
    "name": "ipython",
    "version": 3
   },
   "file_extension": ".py",
   "mimetype": "text/x-python",
   "name": "python",
   "nbconvert_exporter": "python",
   "pygments_lexer": "ipython3",
   "version": "3.7.10"
  },
  "orig_nbformat": 2,
  "kernelspec": {
   "name": "python3710jvsc74a57bd01efbdefe62ef753a57d504b935b0e279aac608607157e85164f11013d2a4fa7a",
   "display_name": "Python 3.7.10 64-bit ('DA2021': conda)"
  }
 },
 "nbformat": 4,
 "nbformat_minor": 2,
 "cells": [
  {
   "cell_type": "code",
   "execution_count": 15,
   "metadata": {},
   "outputs": [
    {
     "output_type": "stream",
     "name": "stdout",
     "text": [
      "/Users/jerzybaranowski/GitHub/private/stan_public/cmdstanpy_spaces/with space\n"
     ]
    }
   ],
   "source": [
    "import sys\n",
    "print(sys.path[0])"
   ]
  },
  {
   "cell_type": "code",
   "execution_count": 16,
   "metadata": {},
   "outputs": [
    {
     "output_type": "stream",
     "name": "stderr",
     "text": [
      "INFO:cmdstanpy:compiling stan program, exe file: /var/folders/j5/wr2j95x534x62nm4sfx97cbc0000gn/T/tmp4fdpysap/tmprn0vm9sr\n",
      "INFO:cmdstanpy:compiler options: stanc_options=None, cpp_options=None\n",
      "INFO:cmdstanpy:compiled model file: /Users/jerzybaranowski/GitHub/private/stan_public/cmdstanpy_spaces/with space/height_2_fit\n"
     ]
    }
   ],
   "source": [
    "from cmdstanpy import CmdStanModel\n",
    "model_ppc=CmdStanModel(stan_file='height_2_fit.stan')"
   ]
  },
  {
   "cell_type": "code",
   "execution_count": 14,
   "metadata": {},
   "outputs": [
    {
     "output_type": "stream",
     "name": "stderr",
     "text": [
      "INFO:cmdstanpy:compiling stan program, exe file: /var/folders/j5/wr2j95x534x62nm4sfx97cbc0000gn/T/tmphpxuonc4/tmpfnotbvpc\n",
      "INFO:cmdstanpy:compiler options: stanc_options=None, cpp_options=None\n",
      "INFO:cmdstanpy:compiled model file: /Users/jerzybaranowski/GitHub/private/stan_public/cmdstanpy_spaces/with space/height_2_fit\n"
     ]
    }
   ],
   "source": [
    "model_ppc.compile()"
   ]
  }
 ]
}